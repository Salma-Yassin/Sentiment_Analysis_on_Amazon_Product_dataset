{
  "cells": [
    {
      "cell_type": "markdown",
      "source": [
        "# Description\n",
        "\n",
        "In this Notebook, we have Examined the data set that will be used for the training and testing of the different developed models. As can be seen from the figures provided below, the dataset is baised toward positive ratings. to Tackle this problem we tried two approaches. Approach 1: to train two different models, one for the ratings from (1-3) and the other for ratigs from (3-5). In this approach the review is inputed to the first model and if the output is 3 it is then inputed to the second model, otherwise the produced rating is the output. Approach 2: we used oversampling by SMOTETomek() over the whole dataset and then used different classification models to decide which is better. We have tried linear SVM, SVM with rbf, logestic regression, random forest and knn classifiers. The values for the recall and precision achieved is provided below."
      ],
      "metadata": {
        "id": "TxbzSvmash9H"
      }
    },
    {
      "cell_type": "markdown",
      "metadata": {
        "id": "4swGgvaRWxec"
      },
      "source": [
        "# Libraries"
      ]
    },
    {
      "cell_type": "code",
      "execution_count": null,
      "metadata": {
        "id": "uORUGdyiUzEb"
      },
      "outputs": [],
      "source": [
        "import numpy as np # linear algebra\n",
        "import pandas as pd # data processing, CSV file I/O (e.g. pd.read_csv)\n",
        "import seaborn as sns\n",
        "import plotly.express as px\n",
        "import matplotlib.pyplot as plt\n",
        "from sklearn.model_selection import train_test_split\n",
        "import os\n",
        "import csv\n",
        "import nltk\n",
        "from nltk.corpus import stopwords\n",
        "from nltk.stem import WordNetLemmatizer\n",
        "from nltk.tokenize import word_tokenize\n",
        "import pickle"
      ]
    },
    {
      "cell_type": "code",
      "execution_count": null,
      "metadata": {
        "colab": {
          "base_uri": "https://localhost:8080/"
        },
        "id": "bs5ptwd1u1Jw",
        "outputId": "608ce772-4ece-4e1b-ce53-7f567310b53f"
      },
      "outputs": [
        {
          "output_type": "stream",
          "name": "stdout",
          "text": [
            "[nltk_data] Downloading package stopwords to /root/nltk_data...\n",
            "[nltk_data]   Unzipping corpora/stopwords.zip.\n",
            "[nltk_data] Downloading package punkt to /root/nltk_data...\n",
            "[nltk_data]   Unzipping tokenizers/punkt.zip.\n",
            "[nltk_data] Downloading package wordnet to /root/nltk_data...\n",
            "[nltk_data]   Unzipping corpora/wordnet.zip.\n"
          ]
        },
        {
          "output_type": "execute_result",
          "data": {
            "text/plain": [
              "True"
            ]
          },
          "metadata": {},
          "execution_count": 2
        }
      ],
      "source": [
        "nltk.download('stopwords')\n",
        "nltk.download('punkt')\n",
        "nltk.download(\"wordnet\")"
      ]
    },
    {
      "cell_type": "markdown",
      "source": [
        "# Reading Dataset from CSV File"
      ],
      "metadata": {
        "id": "eGcDiXprsqV7"
      }
    },
    {
      "cell_type": "code",
      "execution_count": null,
      "metadata": {
        "id": "5RsxRTsPJNZH"
      },
      "outputs": [],
      "source": [
        "# Reading the csv file\n",
        "review = pd.read_csv('/content/Datafiniti_Amazon_Consumer_Reviews_of_Amazon_Products_May19.csv')\n",
        "review  = review [['reviews.numHelpful','reviews.rating','reviews.text','reviews.title']]\n"
      ]
    },
    {
      "cell_type": "code",
      "execution_count": null,
      "metadata": {
        "id": "UNZbo97GVo4e"
      },
      "outputs": [],
      "source": [
        "review = review.dropna()"
      ]
    },
    {
      "cell_type": "code",
      "execution_count": null,
      "metadata": {
        "colab": {
          "base_uri": "https://localhost:8080/"
        },
        "id": "hPgcOEFitbY0",
        "outputId": "145dbf8a-8c7b-4678-fc44-730ce2ce4a3b"
      },
      "outputs": [
        {
          "output_type": "stream",
          "name": "stdout",
          "text": [
            "<class 'pandas.core.frame.DataFrame'>\n",
            "Int64Index: 16115 entries, 8349 to 28331\n",
            "Data columns (total 4 columns):\n",
            " #   Column              Non-Null Count  Dtype  \n",
            "---  ------              --------------  -----  \n",
            " 0   reviews.numHelpful  16115 non-null  float64\n",
            " 1   reviews.rating      16115 non-null  int64  \n",
            " 2   reviews.text        16115 non-null  object \n",
            " 3   reviews.title       16115 non-null  object \n",
            "dtypes: float64(1), int64(1), object(2)\n",
            "memory usage: 629.5+ KB\n"
          ]
        }
      ],
      "source": [
        "review.info()"
      ]
    },
    {
      "cell_type": "code",
      "execution_count": null,
      "metadata": {
        "id": "jNyfW8L2vwiv"
      },
      "outputs": [],
      "source": [
        "review = review.set_index([pd.Index([i for i in range(review.shape[0])])])"
      ]
    },
    {
      "cell_type": "markdown",
      "source": [
        "# Preprocessing"
      ],
      "metadata": {
        "id": "tAE_7_oPtQZi"
      }
    },
    {
      "cell_type": "code",
      "execution_count": null,
      "metadata": {
        "colab": {
          "base_uri": "https://localhost:8080/",
          "height": 424
        },
        "id": "B9gtJTi8r5W9",
        "outputId": "65ca34ca-ac02-430e-a7b7-1a6231b9d64e"
      },
      "outputs": [
        {
          "output_type": "execute_result",
          "data": {
            "text/plain": [
              "       reviews.numHelpful  reviews.rating  \\\n",
              "0                     1.0               5   \n",
              "1                     0.0               4   \n",
              "2                     0.0               5   \n",
              "3                     1.0               5   \n",
              "4                     1.0               5   \n",
              "...                   ...             ...   \n",
              "16110                 0.0               5   \n",
              "16111                 0.0               4   \n",
              "16112                 0.0               5   \n",
              "16113                 0.0               5   \n",
              "16114                 0.0               4   \n",
              "\n",
              "                                            reviews.text  \\\n",
              "0      Pros: I love the Alexa series so when this one...   \n",
              "1      ASIDE FROM THE FACT THAT THE SCREEN IS SMALL, ...   \n",
              "2      I wasn't sure I even wanted this item, but cau...   \n",
              "3      Pros: Works good like Alexia Cons: setting it ...   \n",
              "4      Pros: Relatively easy to setup and works quite...   \n",
              "...                                                  ...   \n",
              "16110  I got 2 of these for my 8 yr old twins. My 11 ...   \n",
              "16111  I bought this for my niece for a Christmas gif...   \n",
              "16112  Very nice for light internet browsing, keeping...   \n",
              "16113  This Tablet does absolutely everything I want!...   \n",
              "16114  At ninety dollars, the expectionations are low...   \n",
              "\n",
              "                                      reviews.title  \\\n",
              "0                   Great addition to a living room   \n",
              "1                 ALEXA ENABLED DEVICE WITH SCREEN.   \n",
              "2                             Gotta have this one!!   \n",
              "3                                        Fire stick   \n",
              "4                                     Great product   \n",
              "...                                             ...   \n",
              "16110                                     Xmas gift   \n",
              "16111                     yes it is a great tablet.   \n",
              "16112                  You get a lot for the price!   \n",
              "16113  You get the entire World for less than $100!   \n",
              "16114                  You get what your paying for   \n",
              "\n",
              "                                                   words  \n",
              "0      [pro, love, alexa, series, one, went, sale, ge...  \n",
              "1      [aside, fact, screen, small, great, little, de...  \n",
              "2      [sure, even, wanted, item, caught, excitement,...  \n",
              "3      [pro, work, good, like, alexia, con, setting, ...  \n",
              "4      [pro, relatively, easy, setup, work, quite, re...  \n",
              "...                                                  ...  \n",
              "16110  [got, yr, old, twin, yr, old, one, one, better...  \n",
              "16111  [bought, niece, christmas, year, old, love, ye...  \n",
              "16112  [nice, light, internet, browsing, keeping, top...  \n",
              "16113  [tablet, absolutely, everything, want, watch, ...  \n",
              "16114  [ninety, dollar, expectionations, low, still, ...  \n",
              "\n",
              "[16115 rows x 5 columns]"
            ],
            "text/html": [
              "\n",
              "  <div id=\"df-648775b4-d7a5-4896-9c44-befb4486ca2d\">\n",
              "    <div class=\"colab-df-container\">\n",
              "      <div>\n",
              "<style scoped>\n",
              "    .dataframe tbody tr th:only-of-type {\n",
              "        vertical-align: middle;\n",
              "    }\n",
              "\n",
              "    .dataframe tbody tr th {\n",
              "        vertical-align: top;\n",
              "    }\n",
              "\n",
              "    .dataframe thead th {\n",
              "        text-align: right;\n",
              "    }\n",
              "</style>\n",
              "<table border=\"1\" class=\"dataframe\">\n",
              "  <thead>\n",
              "    <tr style=\"text-align: right;\">\n",
              "      <th></th>\n",
              "      <th>reviews.numHelpful</th>\n",
              "      <th>reviews.rating</th>\n",
              "      <th>reviews.text</th>\n",
              "      <th>reviews.title</th>\n",
              "      <th>words</th>\n",
              "    </tr>\n",
              "  </thead>\n",
              "  <tbody>\n",
              "    <tr>\n",
              "      <th>0</th>\n",
              "      <td>1.0</td>\n",
              "      <td>5</td>\n",
              "      <td>Pros: I love the Alexa series so when this one...</td>\n",
              "      <td>Great addition to a living room</td>\n",
              "      <td>[pro, love, alexa, series, one, went, sale, ge...</td>\n",
              "    </tr>\n",
              "    <tr>\n",
              "      <th>1</th>\n",
              "      <td>0.0</td>\n",
              "      <td>4</td>\n",
              "      <td>ASIDE FROM THE FACT THAT THE SCREEN IS SMALL, ...</td>\n",
              "      <td>ALEXA ENABLED DEVICE WITH SCREEN.</td>\n",
              "      <td>[aside, fact, screen, small, great, little, de...</td>\n",
              "    </tr>\n",
              "    <tr>\n",
              "      <th>2</th>\n",
              "      <td>0.0</td>\n",
              "      <td>5</td>\n",
              "      <td>I wasn't sure I even wanted this item, but cau...</td>\n",
              "      <td>Gotta have this one!!</td>\n",
              "      <td>[sure, even, wanted, item, caught, excitement,...</td>\n",
              "    </tr>\n",
              "    <tr>\n",
              "      <th>3</th>\n",
              "      <td>1.0</td>\n",
              "      <td>5</td>\n",
              "      <td>Pros: Works good like Alexia Cons: setting it ...</td>\n",
              "      <td>Fire stick</td>\n",
              "      <td>[pro, work, good, like, alexia, con, setting, ...</td>\n",
              "    </tr>\n",
              "    <tr>\n",
              "      <th>4</th>\n",
              "      <td>1.0</td>\n",
              "      <td>5</td>\n",
              "      <td>Pros: Relatively easy to setup and works quite...</td>\n",
              "      <td>Great product</td>\n",
              "      <td>[pro, relatively, easy, setup, work, quite, re...</td>\n",
              "    </tr>\n",
              "    <tr>\n",
              "      <th>...</th>\n",
              "      <td>...</td>\n",
              "      <td>...</td>\n",
              "      <td>...</td>\n",
              "      <td>...</td>\n",
              "      <td>...</td>\n",
              "    </tr>\n",
              "    <tr>\n",
              "      <th>16110</th>\n",
              "      <td>0.0</td>\n",
              "      <td>5</td>\n",
              "      <td>I got 2 of these for my 8 yr old twins. My 11 ...</td>\n",
              "      <td>Xmas gift</td>\n",
              "      <td>[got, yr, old, twin, yr, old, one, one, better...</td>\n",
              "    </tr>\n",
              "    <tr>\n",
              "      <th>16111</th>\n",
              "      <td>0.0</td>\n",
              "      <td>4</td>\n",
              "      <td>I bought this for my niece for a Christmas gif...</td>\n",
              "      <td>yes it is a great tablet.</td>\n",
              "      <td>[bought, niece, christmas, year, old, love, ye...</td>\n",
              "    </tr>\n",
              "    <tr>\n",
              "      <th>16112</th>\n",
              "      <td>0.0</td>\n",
              "      <td>5</td>\n",
              "      <td>Very nice for light internet browsing, keeping...</td>\n",
              "      <td>You get a lot for the price!</td>\n",
              "      <td>[nice, light, internet, browsing, keeping, top...</td>\n",
              "    </tr>\n",
              "    <tr>\n",
              "      <th>16113</th>\n",
              "      <td>0.0</td>\n",
              "      <td>5</td>\n",
              "      <td>This Tablet does absolutely everything I want!...</td>\n",
              "      <td>You get the entire World for less than $100!</td>\n",
              "      <td>[tablet, absolutely, everything, want, watch, ...</td>\n",
              "    </tr>\n",
              "    <tr>\n",
              "      <th>16114</th>\n",
              "      <td>0.0</td>\n",
              "      <td>4</td>\n",
              "      <td>At ninety dollars, the expectionations are low...</td>\n",
              "      <td>You get what your paying for</td>\n",
              "      <td>[ninety, dollar, expectionations, low, still, ...</td>\n",
              "    </tr>\n",
              "  </tbody>\n",
              "</table>\n",
              "<p>16115 rows × 5 columns</p>\n",
              "</div>\n",
              "      <button class=\"colab-df-convert\" onclick=\"convertToInteractive('df-648775b4-d7a5-4896-9c44-befb4486ca2d')\"\n",
              "              title=\"Convert this dataframe to an interactive table.\"\n",
              "              style=\"display:none;\">\n",
              "        \n",
              "  <svg xmlns=\"http://www.w3.org/2000/svg\" height=\"24px\"viewBox=\"0 0 24 24\"\n",
              "       width=\"24px\">\n",
              "    <path d=\"M0 0h24v24H0V0z\" fill=\"none\"/>\n",
              "    <path d=\"M18.56 5.44l.94 2.06.94-2.06 2.06-.94-2.06-.94-.94-2.06-.94 2.06-2.06.94zm-11 1L8.5 8.5l.94-2.06 2.06-.94-2.06-.94L8.5 2.5l-.94 2.06-2.06.94zm10 10l.94 2.06.94-2.06 2.06-.94-2.06-.94-.94-2.06-.94 2.06-2.06.94z\"/><path d=\"M17.41 7.96l-1.37-1.37c-.4-.4-.92-.59-1.43-.59-.52 0-1.04.2-1.43.59L10.3 9.45l-7.72 7.72c-.78.78-.78 2.05 0 2.83L4 21.41c.39.39.9.59 1.41.59.51 0 1.02-.2 1.41-.59l7.78-7.78 2.81-2.81c.8-.78.8-2.07 0-2.86zM5.41 20L4 18.59l7.72-7.72 1.47 1.35L5.41 20z\"/>\n",
              "  </svg>\n",
              "      </button>\n",
              "      \n",
              "  <style>\n",
              "    .colab-df-container {\n",
              "      display:flex;\n",
              "      flex-wrap:wrap;\n",
              "      gap: 12px;\n",
              "    }\n",
              "\n",
              "    .colab-df-convert {\n",
              "      background-color: #E8F0FE;\n",
              "      border: none;\n",
              "      border-radius: 50%;\n",
              "      cursor: pointer;\n",
              "      display: none;\n",
              "      fill: #1967D2;\n",
              "      height: 32px;\n",
              "      padding: 0 0 0 0;\n",
              "      width: 32px;\n",
              "    }\n",
              "\n",
              "    .colab-df-convert:hover {\n",
              "      background-color: #E2EBFA;\n",
              "      box-shadow: 0px 1px 2px rgba(60, 64, 67, 0.3), 0px 1px 3px 1px rgba(60, 64, 67, 0.15);\n",
              "      fill: #174EA6;\n",
              "    }\n",
              "\n",
              "    [theme=dark] .colab-df-convert {\n",
              "      background-color: #3B4455;\n",
              "      fill: #D2E3FC;\n",
              "    }\n",
              "\n",
              "    [theme=dark] .colab-df-convert:hover {\n",
              "      background-color: #434B5C;\n",
              "      box-shadow: 0px 1px 3px 1px rgba(0, 0, 0, 0.15);\n",
              "      filter: drop-shadow(0px 1px 2px rgba(0, 0, 0, 0.3));\n",
              "      fill: #FFFFFF;\n",
              "    }\n",
              "  </style>\n",
              "\n",
              "      <script>\n",
              "        const buttonEl =\n",
              "          document.querySelector('#df-648775b4-d7a5-4896-9c44-befb4486ca2d button.colab-df-convert');\n",
              "        buttonEl.style.display =\n",
              "          google.colab.kernel.accessAllowed ? 'block' : 'none';\n",
              "\n",
              "        async function convertToInteractive(key) {\n",
              "          const element = document.querySelector('#df-648775b4-d7a5-4896-9c44-befb4486ca2d');\n",
              "          const dataTable =\n",
              "            await google.colab.kernel.invokeFunction('convertToInteractive',\n",
              "                                                     [key], {});\n",
              "          if (!dataTable) return;\n",
              "\n",
              "          const docLinkHtml = 'Like what you see? Visit the ' +\n",
              "            '<a target=\"_blank\" href=https://colab.research.google.com/notebooks/data_table.ipynb>data table notebook</a>'\n",
              "            + ' to learn more about interactive tables.';\n",
              "          element.innerHTML = '';\n",
              "          dataTable['output_type'] = 'display_data';\n",
              "          await google.colab.output.renderOutput(dataTable, element);\n",
              "          const docLink = document.createElement('div');\n",
              "          docLink.innerHTML = docLinkHtml;\n",
              "          element.appendChild(docLink);\n",
              "        }\n",
              "      </script>\n",
              "    </div>\n",
              "  </div>\n",
              "  "
            ]
          },
          "metadata": {},
          "execution_count": 7
        }
      ],
      "source": [
        "# Text preprocessing\n",
        "from nltk.tokenize import word_tokenize\n",
        "\n",
        "words = pd.DataFrame(columns = ['words'])\n",
        "stop_words = set(nltk.corpus.stopwords.words(\"english\")) - set([\"not\"])\n",
        "Lemmatizer = WordNetLemmatizer()\n",
        "\n",
        "#change to review.index after complete, this helps with runtime\n",
        "for num in review.index:\n",
        "    word_tokens = word_tokenize(review['reviews.text'][num])\n",
        "    word_tokens2 = word_tokenize(review['reviews.title'][num])\n",
        "    word_tokens2 = [w.lower() for w in word_tokens2]\n",
        "    word_tokens = [w.lower() for w in word_tokens]\n",
        "    word_tokens = word_tokens + word_tokens2\n",
        "    filtered_sentence = []\n",
        "    for w in word_tokens:\n",
        "        if w not in stop_words:\n",
        "            if w.isalpha():\n",
        "                filtered_sentence.append(Lemmatizer.lemmatize(w))\n",
        "    words = words.append({'words': filtered_sentence}, ignore_index = True)\n",
        "review['words'] = words\n",
        "review"
      ]
    },
    {
      "cell_type": "code",
      "execution_count": null,
      "metadata": {
        "colab": {
          "base_uri": "https://localhost:8080/",
          "height": 334
        },
        "id": "JyRsYGUMF5z5",
        "outputId": "9454feb6-712c-4267-cef7-7c605800d344"
      },
      "outputs": [
        {
          "output_type": "stream",
          "name": "stderr",
          "text": [
            "/usr/local/lib/python3.7/dist-packages/seaborn/_decorators.py:43: FutureWarning: Pass the following variable as a keyword arg: x. From version 0.12, the only valid positional argument will be `data`, and passing other arguments without an explicit keyword will result in an error or misinterpretation.\n",
            "  FutureWarning\n"
          ]
        },
        {
          "output_type": "display_data",
          "data": {
            "text/plain": [
              "<Figure size 432x288 with 1 Axes>"
            ],
            "image/png": "[encoded data removed]"
          },
          "metadata": {
            "needs_background": "light"
          }
        }
      ],
      "source": [
        "import seaborn as sns\n",
        "import matplotlib.pyplot as plt\n",
        "sns.countplot(review['reviews.rating'],palette ='Blues')\n",
        "plt.ylabel=('count')\n",
        "plt.xlabel=('rating')\n",
        "plt.show()"
      ]
    },
    {
      "cell_type": "code",
      "execution_count": null,
      "metadata": {
        "id": "ojzOlFwK3ZCq"
      },
      "outputs": [],
      "source": [
        "# Seperating features\n",
        "features = review.drop(columns = ['reviews.text','reviews.title','reviews.rating'])"
      ]
    },
    {
      "cell_type": "code",
      "execution_count": null,
      "metadata": {
        "id": "_bl3DMCHWWW5"
      },
      "outputs": [],
      "source": [
        "# train/test split\n",
        "\n",
        "X_train,X_test,Y_train, Y_test = train_test_split(features, review['reviews.rating'], test_size = 0.25, random_state = 30)\n",
        "X_train = X_train.reset_index().drop(columns = ['index'])\n",
        "X_test = X_test.reset_index().drop(columns = ['index'])\n",
        "Y_train = Y_train.reset_index().drop(columns = ['index'])\n",
        "Y_test = Y_test.reset_index().drop(columns = ['index'])\n"
      ]
    },
    {
      "cell_type": "markdown",
      "metadata": {
        "id": "enwx_0AnWp5C"
      },
      "source": [
        "Using Tfidf() Vectorizer for vectoriztion"
      ]
    },
    {
      "cell_type": "code",
      "execution_count": null,
      "metadata": {
        "colab": {
          "base_uri": "https://localhost:8080/"
        },
        "id": "JlGoXAJOWpit",
        "outputId": "f704f73c-c878-4a59-b2b3-f50222c9f45e"
      },
      "outputs": [
        {
          "output_type": "stream",
          "name": "stdout",
          "text": [
            "  (0, 365)\t0.3434946247901985\n",
            "  (0, 364)\t0.4688755737842757\n",
            "  (0, 204)\t0.7241618325486666\n",
            "  (0, 193)\t0.20793255908295596\n",
            "  (0, 51)\t0.21695989675169403\n",
            "  (0, 28)\t0.21782844948071206\n",
            "  (0, 493)\t0.17364776161041806\n",
            "  (0, 492)\t0.1577401991755483\n",
            "  (0, 441)\t0.17779792078748333\n",
            "  (0, 425)\t0.09020081860263794\n",
            "  (0, 399)\t0.19297623658281635\n",
            "  (0, 392)\t0.27484099351593366\n",
            "  (0, 373)\t0.2685449434431753\n",
            "  (0, 342)\t0.26954070746519215\n",
            "  (0, 314)\t0.15435346278807016\n",
            "  (0, 306)\t0.15118183700822788\n",
            "  (0, 292)\t0.27446959769627505\n",
            "  (0, 290)\t0.19595936211016365\n",
            "  (0, 266)\t0.293625695098827\n",
            "  (0, 261)\t0.210608630645096\n",
            "  (0, 247)\t0.21959115895944603\n",
            "  (0, 193)\t0.08098559397544847\n",
            "  (0, 185)\t0.18948162965134485\n",
            "  (0, 157)\t0.21377616997022655\n",
            "  (0, 77)\t0.19823925854556765\n",
            "  (0, 61)\t0.27712929471426057\n",
            "  (0, 60)\t0.18105384713188336\n",
            "  (0, 46)\t0.2672474027603118\n"
          ]
        }
      ],
      "source": [
        "from sklearn.feature_extraction.text import TfidfVectorizer\n",
        "count = 0\n",
        "X_train_string = pd.DataFrame(columns = ['strings'])\n",
        "for words in X_train['words']:\n",
        "    X_train_string = X_train_string.append({'strings': ' '.join(words)}, ignore_index=True)\n",
        "\n",
        "X_test_string = pd.DataFrame(columns = ['strings'])\n",
        "for words in X_test['words']:\n",
        "    X_test_string = X_test_string.append({'strings': ' '.join(words)}, ignore_index=True)\n",
        "\n",
        "vectorizer = TfidfVectorizer(max_features = 500, ngram_range = (1, 2))\n",
        "vectorizer.fit(X_train_string['strings'])\n",
        "# save the vectorizer\n",
        "pickle.dump(vectorizer, open('saved_vectorizer.sav', 'wb')) #adding the chosen model to be saved\n",
        "\n",
        "tf_x_train = vectorizer.transform(X_train_string['strings'])\n",
        "tf_x_test = vectorizer.transform(X_test_string['strings'])\n",
        "\n",
        "print(tf_x_train[0])\n",
        "print(tf_x_test[0])"
      ]
    },
    {
      "cell_type": "markdown",
      "source": [
        "# Approach 1:"
      ],
      "metadata": {
        "id": "uxPhglOduJFc"
      }
    },
    {
      "cell_type": "code",
      "execution_count": null,
      "metadata": {
        "id": "vjqF-bKv6UFY"
      },
      "outputs": [],
      "source": [
        "Y_train_4  = Y_train[Y_train['reviews.rating'] < 4 ]\n",
        "index = Y_train[Y_train['reviews.rating'] < 4 ].index.values\n",
        "tx_train_4 = tf_x_train[index,: ]\n",
        "\n",
        "\n",
        "Y_train_5  = Y_train[Y_train['reviews.rating']  > 2 ]\n",
        "index = Y_train[Y_train['reviews.rating'] > 2 ].index.values\n",
        "tx_train_5 = tf_x_train[index,: ]"
      ]
    },
    {
      "cell_type": "code",
      "execution_count": null,
      "metadata": {
        "id": "3Rk4Srkp-j6Y"
      },
      "outputs": [],
      "source": [
        "from imblearn.combine import SMOTEENN , SMOTETomek\n",
        "sm = SMOTETomek ()\n",
        "tx_train_5_resampled, Y_train_5_resampled = sm.fit_resample(tx_train_5 , Y_train_5)"
      ]
    },
    {
      "cell_type": "code",
      "execution_count": null,
      "metadata": {
        "id": "KgvQVF6jnV36"
      },
      "outputs": [],
      "source": [
        "from imblearn.combine import SMOTEENN , SMOTETomek\n",
        "sm = SMOTETomek ()\n",
        "tx_train_4_resampled, Y_train_4_resampled = sm.fit_resample(tx_train_4 , Y_train_4)"
      ]
    },
    {
      "cell_type": "code",
      "execution_count": null,
      "metadata": {
        "colab": {
          "base_uri": "https://localhost:8080/",
          "height": 334
        },
        "id": "o_3c-nh7Fts0",
        "outputId": "4dae26c2-8dd2-48b9-88a1-a851c61983ae"
      },
      "outputs": [
        {
          "output_type": "stream",
          "name": "stderr",
          "text": [
            "/usr/local/lib/python3.7/dist-packages/seaborn/_decorators.py:43: FutureWarning: Pass the following variable as a keyword arg: x. From version 0.12, the only valid positional argument will be `data`, and passing other arguments without an explicit keyword will result in an error or misinterpretation.\n",
            "  FutureWarning\n"
          ]
        },
        {
          "output_type": "display_data",
          "data": {
            "text/plain": [
              "<Figure size 432x288 with 1 Axes>"
            ],
            "image/png": "[encoded data removed]"
          },
          "metadata": {
            "needs_background": "light"
          }
        }
      ],
      "source": [
        "import seaborn as sns\n",
        "import matplotlib.pyplot as plt\n",
        "sns.countplot(Y_train_4_resampled['reviews.rating'],palette ='Blues')\n",
        "plt.ylabel=('count')\n",
        "plt.xlabel=('rating')\n",
        "plt.show()"
      ]
    },
    {
      "cell_type": "markdown",
      "source": [
        "## First Model:"
      ],
      "metadata": {
        "id": "aHroxy5ZvBrh"
      }
    },
    {
      "cell_type": "code",
      "execution_count": null,
      "metadata": {
        "colab": {
          "base_uri": "https://localhost:8080/"
        },
        "id": "V2MGcb8uBGuY",
        "outputId": "4e5ce3c8-0ab1-41a9-cb58-d61943d79e74"
      },
      "outputs": [
        {
          "output_type": "stream",
          "name": "stderr",
          "text": [
            "/usr/local/lib/python3.7/dist-packages/sklearn/utils/validation.py:993: DataConversionWarning: A column-vector y was passed when a 1d array was expected. Please change the shape of y to (n_samples, ), for example using ravel().\n",
            "  y = column_or_1d(y, warn=True)\n"
          ]
        }
      ],
      "source": [
        "from sklearn.neighbors import KNeighborsClassifier\n",
        "from sklearn import svm\n",
        "model4 = LogisticRegression()\n",
        "model4.fit(tx_train_4,Y_train_4)\n",
        "pickle.dump(model4, open('saved_model_trial.sav', 'wb')) #adding the chosen model to be saved"
      ]
    },
    {
      "cell_type": "code",
      "execution_count": null,
      "metadata": {
        "colab": {
          "base_uri": "https://localhost:8080/"
        },
        "id": "yPTNFNE0BHLQ",
        "outputId": "3a7f089f-2f0d-4825-8fbd-431c94b666b8"
      },
      "outputs": [
        {
          "output_type": "stream",
          "name": "stdout",
          "text": [
            "              precision    recall  f1-score   support\n",
            "\n",
            "           1       0.29      0.42      0.35        45\n",
            "           2       0.39      0.46      0.42        52\n",
            "           3       0.05      0.94      0.09       196\n",
            "           4       0.00      0.00      0.00      1032\n",
            "           5       0.00      0.00      0.00      2704\n",
            "\n",
            "    accuracy                           0.06      4029\n",
            "   macro avg       0.15      0.36      0.17      4029\n",
            "weighted avg       0.01      0.06      0.01      4029\n",
            "\n"
          ]
        },
        {
          "output_type": "stream",
          "name": "stderr",
          "text": [
            "/usr/local/lib/python3.7/dist-packages/sklearn/metrics/_classification.py:1318: UndefinedMetricWarning: Precision and F-score are ill-defined and being set to 0.0 in labels with no predicted samples. Use `zero_division` parameter to control this behavior.\n",
            "  _warn_prf(average, modifier, msg_start, len(result))\n",
            "/usr/local/lib/python3.7/dist-packages/sklearn/metrics/_classification.py:1318: UndefinedMetricWarning: Precision and F-score are ill-defined and being set to 0.0 in labels with no predicted samples. Use `zero_division` parameter to control this behavior.\n",
            "  _warn_prf(average, modifier, msg_start, len(result))\n",
            "/usr/local/lib/python3.7/dist-packages/sklearn/metrics/_classification.py:1318: UndefinedMetricWarning: Precision and F-score are ill-defined and being set to 0.0 in labels with no predicted samples. Use `zero_division` parameter to control this behavior.\n",
            "  _warn_prf(average, modifier, msg_start, len(result))\n"
          ]
        }
      ],
      "source": [
        "y_test_pred = model4.predict(tf_x_test)\n",
        "report = classification_report(Y_test, y_test_pred)\n",
        "print(report)\n",
        "tf_x_test_sub = tf_x_test[y_test_pred > 2]"
      ]
    },
    {
      "cell_type": "markdown",
      "source": [
        "## Second Model:"
      ],
      "metadata": {
        "id": "h4KdoH84vOKj"
      }
    },
    {
      "cell_type": "code",
      "execution_count": null,
      "metadata": {
        "colab": {
          "base_uri": "https://localhost:8080/"
        },
        "id": "JK0HbTRGBKmn",
        "outputId": "82ebf5ba-1945-43a2-8921-2dec175171ff"
      },
      "outputs": [
        {
          "output_type": "stream",
          "name": "stderr",
          "text": [
            "/usr/local/lib/python3.7/dist-packages/sklearn/utils/validation.py:993: DataConversionWarning: A column-vector y was passed when a 1d array was expected. Please change the shape of y to (n_samples, ), for example using ravel().\n",
            "  y = column_or_1d(y, warn=True)\n"
          ]
        }
      ],
      "source": [
        "# second model\n",
        "model5 = svm.SVC(C = 100 , gamma = 50 , kernel = 'rbf', random_state=8)\n",
        "model5.fit(tx_train_5,Y_train_5)\n",
        "y_test_pred_sub = model5.predict(tf_x_test_sub)"
      ]
    },
    {
      "cell_type": "code",
      "execution_count": null,
      "metadata": {
        "colab": {
          "base_uri": "https://localhost:8080/"
        },
        "id": "vrVTW8uq-Hhs",
        "outputId": "a5307d36-9dd2-46ed-a6ce-a549e76045bb"
      },
      "outputs": [
        {
          "output_type": "stream",
          "name": "stdout",
          "text": [
            "              precision    recall  f1-score   support\n",
            "\n",
            "           1       1.00      0.62      0.77        45\n",
            "           2       1.00      0.62      0.76        52\n",
            "           3       1.00      0.59      0.74       196\n",
            "           4       1.00      0.63      0.78      1032\n",
            "           5       0.84      1.00      0.92      2704\n",
            "\n",
            "    accuracy                           0.88      4029\n",
            "   macro avg       0.97      0.69      0.79      4029\n",
            "weighted avg       0.90      0.88      0.87      4029\n",
            "\n"
          ]
        }
      ],
      "source": [
        "y_test_pred[y_test_pred > 2] = y_test_pred_sub\n",
        "from sklearn.metrics import classification_report\n",
        "report = classification_report(Y_test, y_test_pred)\n",
        "print(report)"
      ]
    },
    {
      "cell_type": "markdown",
      "metadata": {
        "id": "QGbQ-_u8gVNS"
      },
      "source": [
        "# Approach 2:"
      ]
    },
    {
      "cell_type": "code",
      "execution_count": null,
      "metadata": {
        "colab": {
          "base_uri": "https://localhost:8080/",
          "height": 334
        },
        "id": "Yld1yd25S-9k",
        "outputId": "1f1ab3d5-0d8a-4526-c47f-61a3672a2b42"
      },
      "outputs": [
        {
          "name": "stderr",
          "output_type": "stream",
          "text": [
            "/usr/local/lib/python3.7/dist-packages/seaborn/_decorators.py:43: FutureWarning: Pass the following variable as a keyword arg: x. From version 0.12, the only valid positional argument will be `data`, and passing other arguments without an explicit keyword will result in an error or misinterpretation.\n",
            "  FutureWarning\n"
          ]
        },
        {
          "data": {
            "image/png": "[encoded data removed]",
            "text/plain": [
              "<Figure size 432x288 with 1 Axes>"
            ]
          },
          "metadata": {},
          "output_type": "display_data"
        }
      ],
      "source": [
        "import seaborn as sns\n",
        "import matplotlib.pyplot as plt\n",
        "sns.countplot(Y_train['reviews.rating'],palette ='Blues')\n",
        "plt.ylabel=('count')\n",
        "plt.xlabel=('rating')\n",
        "plt.show()"
      ]
    },
    {
      "cell_type": "code",
      "execution_count": null,
      "metadata": {
        "id": "d4YCzsAeIuIJ"
      },
      "outputs": [],
      "source": [
        "from imblearn.combine import SMOTEENN , SMOTETomek\n",
        "sm = SMOTETomek ()\n",
        "x_resampled, y_resampled = sm.fit_resample(tf_x_train , Y_train)"
      ]
    },
    {
      "cell_type": "code",
      "execution_count": null,
      "metadata": {
        "colab": {
          "base_uri": "https://localhost:8080/",
          "height": 334
        },
        "id": "acc51XswJR0M",
        "outputId": "4ddb1125-27a7-40f9-ce5b-728b1a8db423"
      },
      "outputs": [
        {
          "output_type": "stream",
          "name": "stderr",
          "text": [
            "/usr/local/lib/python3.7/dist-packages/seaborn/_decorators.py:43: FutureWarning: Pass the following variable as a keyword arg: x. From version 0.12, the only valid positional argument will be `data`, and passing other arguments without an explicit keyword will result in an error or misinterpretation.\n",
            "  FutureWarning\n"
          ]
        },
        {
          "output_type": "display_data",
          "data": {
            "text/plain": [
              "<Figure size 432x288 with 1 Axes>"
            ],
            "image/png": "[encoded data removed]"
          },
          "metadata": {
            "needs_background": "light"
          }
        }
      ],
      "source": [
        "import seaborn as sns\n",
        "import matplotlib.pyplot as plt\n",
        "sns.countplot(y_resampled['reviews.rating'],palette ='Blues')\n",
        "plt.ylabel=('count')\n",
        "plt.xlabel=('rating')\n",
        "plt.show()"
      ]
    },
    {
      "cell_type": "markdown",
      "metadata": {
        "id": "4gllD5KB4vqB"
      },
      "source": [
        "## Model 1:"
      ]
    },
    {
      "cell_type": "code",
      "execution_count": null,
      "metadata": {
        "id": "ttgqE4WS4vXA"
      },
      "outputs": [],
      "source": [
        "from sklearn import svm\n",
        "model = svm.SVC(C = 100 ,kernel = 'linear', random_state=8)"
      ]
    },
    {
      "cell_type": "code",
      "execution_count": null,
      "metadata": {
        "id": "2dzaPg0641bk"
      },
      "outputs": [],
      "source": [
        "model.fit(x_resampled,y_resampled)\n",
        "pickle.dump(model, open('saved_model_linear_svc.sav', 'wb')) #adding the chosen model to be saved\n",
        "y_test_pred = model.predict(tf_x_test)\n",
        "from sklearn.metrics import classification_report\n",
        "\n",
        "# Trying the model on the Test set to check its performance\n",
        "report=classification_report(Y_test, y_test_pred)\n",
        "print(report)"
      ]
    },
    {
      "cell_type": "markdown",
      "metadata": {
        "id": "OyFshtUc6ZB8"
      },
      "source": [
        "## Model 2:"
      ]
    },
    {
      "cell_type": "code",
      "execution_count": null,
      "metadata": {
        "id": "XPLzdKxS5wYx"
      },
      "outputs": [],
      "source": [
        "from sklearn import svm\n",
        "modelsvc = svm.SVC(C = 100 , gamma = 50 , kernel = 'rbf', random_state=8)"
      ]
    },
    {
      "cell_type": "code",
      "execution_count": null,
      "metadata": {
        "colab": {
          "base_uri": "https://localhost:8080/"
        },
        "id": "JlLEr9SU5y9e",
        "outputId": "2943a9f1-320d-4665-b90b-b9fb42b83a9c"
      },
      "outputs": [
        {
          "output_type": "stream",
          "name": "stderr",
          "text": [
            "/usr/local/lib/python3.7/dist-packages/sklearn/utils/validation.py:993: DataConversionWarning: A column-vector y was passed when a 1d array was expected. Please change the shape of y to (n_samples, ), for example using ravel().\n",
            "  y = column_or_1d(y, warn=True)\n"
          ]
        },
        {
          "output_type": "stream",
          "name": "stdout",
          "text": [
            "              precision    recall  f1-score   support\n",
            "\n",
            "           1       1.00      0.62      0.77        45\n",
            "           2       0.94      0.62      0.74        52\n",
            "           3       1.00      0.59      0.74       196\n",
            "           4       1.00      0.63      0.78      1032\n",
            "           5       0.85      1.00      0.92      2704\n",
            "\n",
            "    accuracy                           0.88      4029\n",
            "   macro avg       0.96      0.69      0.79      4029\n",
            "weighted avg       0.90      0.88      0.87      4029\n",
            "\n"
          ]
        }
      ],
      "source": [
        "modelsvc.fit(tf_x_train,Y_train)\n",
        "# Save the model\n",
        "pickle.dump(modelsvc, open('saved_model_svc.sav', 'wb')) #adding the chosen model to be saved\n",
        "\n",
        "y_test_pred = modelsvc.predict(tf_x_test)\n",
        "from sklearn.metrics import classification_report\n",
        "\n",
        "# Trying the model on the Test set to check its performance\n",
        "report=classification_report(Y_test, y_test_pred)\n",
        "print(report)"
      ]
    },
    {
      "cell_type": "markdown",
      "source": [
        "## Model 3:"
      ],
      "metadata": {
        "id": "-SCsDynxx6mv"
      }
    },
    {
      "cell_type": "code",
      "execution_count": null,
      "metadata": {
        "id": "y0qOUI57voiO"
      },
      "outputs": [],
      "source": [
        "from sklearn import svm\n",
        "model = svm.SVC(C = 1000 , gamma = 80 , kernel = 'rbf', random_state=8)"
      ]
    },
    {
      "cell_type": "code",
      "execution_count": null,
      "metadata": {
        "colab": {
          "base_uri": "https://localhost:8080/"
        },
        "id": "ocN3rdjnvpCJ",
        "outputId": "152200c7-b5a5-4c0e-e3c2-122c9725339a"
      },
      "outputs": [
        {
          "name": "stderr",
          "output_type": "stream",
          "text": [
            "/usr/local/lib/python3.7/dist-packages/sklearn/utils/validation.py:993: DataConversionWarning: A column-vector y was passed when a 1d array was expected. Please change the shape of y to (n_samples, ), for example using ravel().\n",
            "  y = column_or_1d(y, warn=True)\n"
          ]
        },
        {
          "name": "stdout",
          "output_type": "stream",
          "text": [
            "              precision    recall  f1-score   support\n",
            "\n",
            "           1       1.00      0.62      0.77        45\n",
            "           2       1.00      0.62      0.76        52\n",
            "           3       1.00      0.59      0.74       196\n",
            "           4       1.00      0.63      0.78      1032\n",
            "           5       0.84      1.00      0.92      2704\n",
            "\n",
            "    accuracy                           0.88      4029\n",
            "   macro avg       0.97      0.69      0.79      4029\n",
            "weighted avg       0.90      0.88      0.87      4029\n",
            "\n"
          ]
        }
      ],
      "source": [
        "model.fit(x_resampled,y_resampled)\n",
        "y_test_pred = model.predict(tf_x_test)\n",
        "from sklearn.metrics import classification_report\n",
        "\n",
        "# Trying the model on the Test set to check its performance\n",
        "report=classification_report(Y_test, y_test_pred)\n",
        "print(report)"
      ]
    },
    {
      "cell_type": "markdown",
      "metadata": {
        "id": "Pn-MLkkr6q4A"
      },
      "source": [
        "## Model 4:"
      ]
    },
    {
      "cell_type": "code",
      "execution_count": null,
      "metadata": {
        "id": "sj2SAzuJ6qiX"
      },
      "outputs": [],
      "source": [
        "from sklearn.linear_model import LogisticRegression\n",
        "model = LogisticRegression()"
      ]
    },
    {
      "cell_type": "code",
      "execution_count": null,
      "metadata": {
        "colab": {
          "base_uri": "https://localhost:8080/"
        },
        "id": "2RcVMfpY8qtd",
        "outputId": "b5f16637-ef0d-4f3f-873e-c33df62d9ac6"
      },
      "outputs": [
        {
          "output_type": "stream",
          "name": "stderr",
          "text": [
            "/usr/local/lib/python3.7/dist-packages/sklearn/utils/validation.py:993: DataConversionWarning: A column-vector y was passed when a 1d array was expected. Please change the shape of y to (n_samples, ), for example using ravel().\n",
            "  y = column_or_1d(y, warn=True)\n"
          ]
        },
        {
          "output_type": "stream",
          "name": "stdout",
          "text": [
            "              precision    recall  f1-score   support\n",
            "\n",
            "           1       0.33      0.73      0.46        45\n",
            "           2       0.19      0.58      0.28        52\n",
            "           3       0.28      0.60      0.38       196\n",
            "           4       0.43      0.51      0.47      1032\n",
            "           5       0.83      0.66      0.74      2704\n",
            "\n",
            "    accuracy                           0.62      4029\n",
            "   macro avg       0.41      0.62      0.47      4029\n",
            "weighted avg       0.69      0.62      0.64      4029\n",
            "\n"
          ]
        },
        {
          "output_type": "stream",
          "name": "stderr",
          "text": [
            "/usr/local/lib/python3.7/dist-packages/sklearn/linear_model/_logistic.py:818: ConvergenceWarning: lbfgs failed to converge (status=1):\n",
            "STOP: TOTAL NO. of ITERATIONS REACHED LIMIT.\n",
            "\n",
            "Increase the number of iterations (max_iter) or scale the data as shown in:\n",
            "    https://scikit-learn.org/stable/modules/preprocessing.html\n",
            "Please also refer to the documentation for alternative solver options:\n",
            "    https://scikit-learn.org/stable/modules/linear_model.html#logistic-regression\n",
            "  extra_warning_msg=_LOGISTIC_SOLVER_CONVERGENCE_MSG,\n"
          ]
        }
      ],
      "source": [
        "model.fit(x_resampled,y_resampled)\n",
        "y_test_pred = model.predict(tf_x_test)\n",
        "pickle.dump(model, open('saved_model_log.sav', 'wb')) #adding the chosen model to be saved\n",
        "from sklearn.metrics import classification_report\n",
        "\n",
        "# Trying the model on the Test set to check its performance\n",
        "report=classification_report(Y_test, y_test_pred)\n",
        "print(report)"
      ]
    },
    {
      "cell_type": "markdown",
      "metadata": {
        "id": "_NIxo9TRAYJM"
      },
      "source": [
        "## Model 5:"
      ]
    },
    {
      "cell_type": "code",
      "execution_count": null,
      "metadata": {
        "colab": {
          "base_uri": "https://localhost:8080/"
        },
        "id": "rYE3GhwMAXyb",
        "outputId": "3d1b81ce-8200-4bb7-fdab-82ac7b962927"
      },
      "outputs": [
        {
          "output_type": "stream",
          "name": "stderr",
          "text": [
            "/usr/local/lib/python3.7/dist-packages/ipykernel_launcher.py:3: DataConversionWarning: A column-vector y was passed when a 1d array was expected. Please change the shape of y to (n_samples,), for example using ravel().\n",
            "  This is separate from the ipykernel package so we can avoid doing imports until\n"
          ]
        },
        {
          "output_type": "stream",
          "name": "stdout",
          "text": [
            "              precision    recall  f1-score   support\n",
            "\n",
            "           1       1.00      0.62      0.77        45\n",
            "           2       0.70      0.67      0.69        52\n",
            "           3       0.91      0.66      0.77       196\n",
            "           4       0.81      0.76      0.79      1032\n",
            "           5       0.90      0.94      0.92      2704\n",
            "\n",
            "    accuracy                           0.88      4029\n",
            "   macro avg       0.86      0.73      0.79      4029\n",
            "weighted avg       0.88      0.88      0.87      4029\n",
            "\n"
          ]
        }
      ],
      "source": [
        "from sklearn.ensemble import RandomForestClassifier\n",
        "model = RandomForestClassifier(n_estimators = 300)\n",
        "model.fit(x_resampled,y_resampled)\n",
        "y_test_pred = model.predict(tf_x_test)\n",
        "from sklearn.metrics import classification_report\n",
        "\n",
        "# Trying the model on the Test set to check its performance\n",
        "report=classification_report(Y_test, y_test_pred)\n",
        "print(report)"
      ]
    },
    {
      "cell_type": "markdown",
      "metadata": {
        "id": "v5ifsKH9ar1Y"
      },
      "source": [
        "## Model 6:"
      ]
    },
    {
      "cell_type": "code",
      "execution_count": null,
      "metadata": {
        "colab": {
          "base_uri": "https://localhost:8080/"
        },
        "id": "1dJAcWu5at-v",
        "outputId": "8427e838-4838-4d3e-f7e2-68c7de0f9ec0"
      },
      "outputs": [
        {
          "output_type": "stream",
          "name": "stderr",
          "text": [
            "/usr/local/lib/python3.7/dist-packages/ipykernel_launcher.py:3: DataConversionWarning: A column-vector y was passed when a 1d array was expected. Please change the shape of y to (n_samples,), for example using ravel().\n",
            "  This is separate from the ipykernel package so we can avoid doing imports until\n"
          ]
        },
        {
          "output_type": "stream",
          "name": "stdout",
          "text": [
            "              precision    recall  f1-score   support\n",
            "\n",
            "           1       0.97      0.64      0.77        45\n",
            "           2       0.71      0.67      0.69        52\n",
            "           3       0.91      0.66      0.77       196\n",
            "           4       0.80      0.76      0.78      1032\n",
            "           5       0.90      0.94      0.92      2704\n",
            "\n",
            "    accuracy                           0.87      4029\n",
            "   macro avg       0.86      0.73      0.79      4029\n",
            "weighted avg       0.87      0.87      0.87      4029\n",
            "\n"
          ]
        }
      ],
      "source": [
        "from sklearn.ensemble import RandomForestClassifier\n",
        "model = RandomForestClassifier(n_estimators = 150)\n",
        "model.fit(x_resampled,y_resampled)\n",
        "y_test_pred = model.predict(tf_x_test)\n",
        "from sklearn.metrics import classification_report\n",
        "\n",
        "# Trying the model on the Test set to check its performance\n",
        "report=classification_report(Y_test, y_test_pred)\n",
        "print(report)"
      ]
    },
    {
      "cell_type": "markdown",
      "source": [
        "## Model 7:"
      ],
      "metadata": {
        "id": "S68W-rImz6B4"
      }
    },
    {
      "cell_type": "code",
      "execution_count": null,
      "metadata": {
        "colab": {
          "base_uri": "https://localhost:8080/"
        },
        "id": "slujeUZ5xYSL",
        "outputId": "ad7111cd-785e-4793-d5e5-0ed6df4b5e8d"
      },
      "outputs": [
        {
          "output_type": "stream",
          "name": "stderr",
          "text": [
            "/usr/local/lib/python3.7/dist-packages/sklearn/neighbors/_classification.py:198: DataConversionWarning: A column-vector y was passed when a 1d array was expected. Please change the shape of y to (n_samples,), for example using ravel().\n",
            "  return self._fit(X, y)\n"
          ]
        },
        {
          "output_type": "stream",
          "name": "stdout",
          "text": [
            "              precision    recall  f1-score   support\n",
            "\n",
            "           1       0.49      0.67      0.57        45\n",
            "           2       0.03      0.94      0.06        52\n",
            "           3       0.40      0.68      0.51       196\n",
            "           4       0.49      0.61      0.54      1032\n",
            "           5       0.93      0.25      0.39      2704\n",
            "\n",
            "    accuracy                           0.38      4029\n",
            "   macro avg       0.47      0.63      0.41      4029\n",
            "weighted avg       0.78      0.38      0.43      4029\n",
            "\n"
          ]
        }
      ],
      "source": [
        "from sklearn.neighbors import KNeighborsClassifier\n",
        "model = KNeighborsClassifier()\n",
        "model.fit(x_resampled,y_resampled)\n",
        "pickle.dump(model, open('saved_model_knn.sav', 'wb')) #adding the chosen model to be saved\n",
        "y_test_pred = model.predict(tf_x_test)\n",
        "from sklearn.metrics import classification_report\n",
        "\n",
        "# Trying the model on the Test set to check its performance\n",
        "report=classification_report(Y_test, y_test_pred)\n",
        "print(report)"
      ]
    },
    {
      "cell_type": "markdown",
      "metadata": {
        "id": "Z7WQDx7QAbPK"
      },
      "source": [
        "# Refrences:\n",
        "- Dataset:\n",
        "https://www.kaggle.com/datasets/datafiniti/consumer-reviews-of-amazon-products\n"
      ]
    }
  ],
  "metadata": {
    "colab": {
      "collapsed_sections": [
        "4swGgvaRWxec",
        "eGcDiXprsqV7",
        "tAE_7_oPtQZi",
        "uxPhglOduJFc",
        "aHroxy5ZvBrh",
        "h4KdoH84vOKj",
        "QGbQ-_u8gVNS",
        "4gllD5KB4vqB",
        "OyFshtUc6ZB8",
        "-SCsDynxx6mv",
        "Pn-MLkkr6q4A",
        "_NIxo9TRAYJM",
        "v5ifsKH9ar1Y",
        "S68W-rImz6B4"
      ],
      "provenance": []
    },
    "kernelspec": {
      "display_name": "Python 3",
      "name": "python3"
    },
    "language_info": {
      "name": "python"
    }
  },
  "nbformat": 4,
  "nbformat_minor": 0
}